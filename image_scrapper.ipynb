{
 "cells": [
  {
   "cell_type": "code",
   "execution_count": 43,
   "metadata": {},
   "outputs": [],
   "source": [
    "from bs4 import BeautifulSoup\n",
    "import httpx\n",
    "from selenium import webdriver\n",
    "from selenium.webdriver.common.by import By\n",
    "import time\n",
    "import os"
   ]
  },
  {
   "cell_type": "code",
   "execution_count": 47,
   "metadata": {},
   "outputs": [],
   "source": [
    "query_images = ['cachorro', 'gato']"
   ]
  },
  {
   "cell_type": "code",
   "execution_count": 48,
   "metadata": {},
   "outputs": [],
   "source": [
    "def imgScraper(query_images):\n",
    "    driver = webdriver.Chrome()  \n",
    "\n",
    "    url = f\"https://unsplash.com/pt-br/s/fotografias/{query_images}\"\n",
    "    driver.get(url)\n",
    "\n",
    "    scroll_pause_time = 3  \n",
    "    screen_height = driver.execute_script(\"return window.screen.height;\")\n",
    "    load_more = driver.find_element(By.XPATH, '//*[@id=\"app\"]/div/div[1]/div/div[2]/div[4]/div/div[3]/div[1]/button')\n",
    "    load_more.click()\n",
    "    i = 1\n",
    "\n",
    "    while True:\n",
    "        driver.execute_script(f\"window.scrollTo(0, {screen_height * i});\")\n",
    "        i += 1\n",
    "        time.sleep(scroll_pause_time)\n",
    "\n",
    "        scroll_height = driver.execute_script(\"return document.body.scrollHeight;\")\n",
    "        if screen_height*i > scroll_height: # ALTERANDO ESSA LINHA PARA \"i > (numero de scrolls desejado)\" É POSSÍVEL EVITAR O SCROLL INFINITO\n",
    "            break\n",
    "\n",
    "    soup = BeautifulSoup(driver.page_source, \"html.parser\")\n",
    "    driver.quit()\n",
    "    return soup\n",
    "\n",
    "def imgDownloader(soup_images, query_images):\n",
    "    div = soup_images.find_all('div', attrs={\"id\":\":R1clltp:\"})\n",
    "    img = div[0].find_all('img', attrs={\"itemprop\":\"thumbnailUrl\"})\n",
    "    k=0\n",
    "    for i in img:\n",
    "        if ('https' in i['src']) and ('profile' not in i['src']):\n",
    "            with open(f\"./dataset/{query_images}/{query_images}{k+1}.png\", \"wb\") as file:\n",
    "                image = httpx.get(i['src'])\n",
    "                file.write(image.content)\n",
    "            k += 1"
   ]
  },
  {
   "cell_type": "code",
   "execution_count": 49,
   "metadata": {},
   "outputs": [],
   "source": [
    "query_images = ['cachorro', 'gato']\n",
    "current_dir = os.getcwd()\n",
    "\n",
    "for i_images in range(len(query_images)):\n",
    "    new_dir = current_dir + '\\\\dataset' + '\\\\' + query_images[i_images]\n",
    "    if not os.path.exists(new_dir):\n",
    "        os.makedirs(new_dir)\n",
    "    soup_images = imgScraper(query_images[i_images])\n",
    "    imgDownloader(soup_images, query_images[i_images])"
   ]
  }
 ],
 "metadata": {
  "kernelspec": {
   "display_name": "Python 3",
   "language": "python",
   "name": "python3"
  },
  "language_info": {
   "codemirror_mode": {
    "name": "ipython",
    "version": 3
   },
   "file_extension": ".py",
   "mimetype": "text/x-python",
   "name": "python",
   "nbconvert_exporter": "python",
   "pygments_lexer": "ipython3",
   "version": "3.12.2"
  }
 },
 "nbformat": 4,
 "nbformat_minor": 2
}
